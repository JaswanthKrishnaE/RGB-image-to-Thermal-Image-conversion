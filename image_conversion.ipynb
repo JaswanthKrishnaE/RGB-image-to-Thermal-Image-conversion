{
 "cells": [
  {
   "cell_type": "code",
   "execution_count": 20,
   "metadata": {},
   "outputs": [],
   "source": [
    "import os\n",
    "import cv2\n",
    "import imghdr\n",
    "import matplotlib.pyplot as plt\n",
    "from PIL import Image\n",
    "import numpy as np"
   ]
  },
  {
   "cell_type": "code",
   "execution_count": 21,
   "metadata": {},
   "outputs": [],
   "source": [
    "def RGB2THERMAL(image):\n",
    "    img = Image.open('4_100.jpg')\n",
    "    img = img.convert('L')\n",
    "    image = cv2.imread('greyscale_image.jpg', 0)\n",
    "    heatmap = cv2.applyColorMap(image, cv2.COLORMAP_JET)\n",
    "    return heatmap"
   ]
  },
  {
   "cell_type": "code",
   "execution_count": 22,
   "metadata": {},
   "outputs": [],
   "source": [
    "data_dir = 'data'"
   ]
  },
  {
   "cell_type": "code",
   "execution_count": 23,
   "metadata": {},
   "outputs": [
    {
     "name": "stdout",
     "output_type": "stream",
     "text": [
      "RGB images\n"
     ]
    },
    {
     "ename": "AttributeError",
     "evalue": "'numpy.ndarray' object has no attribute 'save'",
     "output_type": "error",
     "traceback": [
      "\u001b[1;31m---------------------------------------------------------------------------\u001b[0m",
      "\u001b[1;31mAttributeError\u001b[0m                            Traceback (most recent call last)",
      "Cell \u001b[1;32mIn[23], line 5\u001b[0m\n\u001b[0;32m      3\u001b[0m \u001b[39mfor\u001b[39;00m img \u001b[39min\u001b[39;00m os\u001b[39m.\u001b[39mlistdir(os\u001b[39m.\u001b[39mpath\u001b[39m.\u001b[39mjoin(data_dir, image_class)):\n\u001b[0;32m      4\u001b[0m     thermal_img \u001b[39m=\u001b[39m RGB2THERMAL(img)\n\u001b[1;32m----> 5\u001b[0m     thermal_img\u001b[39m.\u001b[39;49msave(\u001b[39m'\u001b[39m\u001b[39mdata/Thermal images/myphoto.jpg\u001b[39m\u001b[39m'\u001b[39m)\n",
      "\u001b[1;31mAttributeError\u001b[0m: 'numpy.ndarray' object has no attribute 'save'"
     ]
    }
   ],
   "source": [
    "for image_class in os.listdir(data_dir):\n",
    "    print(image_class)\n",
    "    for img in os.listdir(os.path.join(data_dir, image_class)):\n",
    "        thermal_img = RGB2THERMAL(img)\n",
    "        thermal_img.save('data/Thermal images/myphoto.jpg')"
   ]
  },
  {
   "cell_type": "code",
   "execution_count": null,
   "metadata": {},
   "outputs": [],
   "source": []
  }
 ],
 "metadata": {
  "kernelspec": {
   "display_name": "Python 3",
   "language": "python",
   "name": "python3"
  },
  "language_info": {
   "codemirror_mode": {
    "name": "ipython",
    "version": 3
   },
   "file_extension": ".py",
   "mimetype": "text/x-python",
   "name": "python",
   "nbconvert_exporter": "python",
   "pygments_lexer": "ipython3",
   "version": "3.11.2"
  },
  "orig_nbformat": 4,
  "vscode": {
   "interpreter": {
    "hash": "07fb9c35f59983460ffd9a6d61da6a0a14b2d1b8d72f6aa35ee735d0540cc3b1"
   }
  }
 },
 "nbformat": 4,
 "nbformat_minor": 2
}
