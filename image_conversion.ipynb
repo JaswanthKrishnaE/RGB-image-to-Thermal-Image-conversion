{
 "cells": [
  {
   "cell_type": "code",
   "execution_count": 9,
   "metadata": {},
   "outputs": [],
   "source": [
    "import os\n",
    "import cv2\n",
    "import imghdr\n",
    "import matplotlib.pyplot as plt\n",
    "from PIL import Image\n",
    "import numpy as np"
   ]
  },
  {
   "cell_type": "code",
   "execution_count": 11,
   "metadata": {},
   "outputs": [],
   "source": [
    "data_dir = 'data/RGB images'\n"
   ]
  },
  {
   "cell_type": "code",
   "execution_count": 12,
   "metadata": {},
   "outputs": [],
   "source": [
    "i = 1\n",
    "for img in os.listdir(data_dir):\n",
    "    RGB_img = Image.open(os.path.join(data_dir, img))\n",
    "\n",
    "    RGB_img = RGB_img.convert('L')\n",
    "    RGB_img.save('greyscale_image.jpg')\n",
    "    RGB_img = cv2.imread('greyscale_image.jpg', 0)\n",
    "    thermal_img = cv2.applyColorMap(RGB_img, cv2.COLORMAP_JET)\n",
    "    plt.imsave('data/Thermal images/thermal' +format(i, '0001') +'.jpg', thermal_img)\n",
    "    i = i+1\n",
    "\n",
    "\n"
   ]
  }
 ],
 "metadata": {
  "kernelspec": {
   "display_name": "Python 3",
   "language": "python",
   "name": "python3"
  },
  "language_info": {
   "codemirror_mode": {
    "name": "ipython",
    "version": 3
   },
   "file_extension": ".py",
   "mimetype": "text/x-python",
   "name": "python",
   "nbconvert_exporter": "python",
   "pygments_lexer": "ipython3",
   "version": "3.11.2"
  },
  "orig_nbformat": 4,
  "vscode": {
   "interpreter": {
    "hash": "07fb9c35f59983460ffd9a6d61da6a0a14b2d1b8d72f6aa35ee735d0540cc3b1"
   }
  }
 },
 "nbformat": 4,
 "nbformat_minor": 2
}
