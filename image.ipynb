{
 "cells": [
  {
   "cell_type": "code",
   "execution_count": 2,
   "metadata": {},
   "outputs": [],
   "source": [
    "import cv2\n",
    "import matplotlib.pyplot as plt\n",
    "from PIL import Image"
   ]
  },
  {
   "cell_type": "code",
   "execution_count": 3,
   "metadata": {},
   "outputs": [],
   "source": [
    "from PIL import Image\n",
    "\n",
    "# Open the image\n",
    "img = Image.open('mango.jpg')\n",
    "\n",
    "# Convert the image to greyscale\n",
    "img = img.convert('L')\n",
    "\n",
    "# Save the image\n",
    "img.save('greyscale_image.jpg')\n"
   ]
  },
  {
   "cell_type": "code",
   "execution_count": 4,
   "metadata": {},
   "outputs": [
    {
     "data": {
      "text/plain": [
       "-1"
      ]
     },
     "execution_count": 4,
     "metadata": {},
     "output_type": "execute_result"
    }
   ],
   "source": [
    "image = cv2.imread('greyscale_image.jpg', 0)\n",
    "heatmap = cv2.applyColorMap(image, cv2.COLORMAP_JET)\n",
    "plt.imsave('data/Thermal images/thermal.jpg', heatmap)\n",
    "\n",
    "cv2.imshow('heatmap', heatmap)\n",
    "cv2.waitKey(0)"
   ]
  },
  {
   "cell_type": "code",
   "execution_count": 5,
   "metadata": {},
   "outputs": [],
   "source": [
    "i = 1"
   ]
  },
  {
   "cell_type": "code",
   "execution_count": null,
   "metadata": {},
   "outputs": [],
   "source": []
  },
  {
   "cell_type": "code",
   "execution_count": 6,
   "metadata": {},
   "outputs": [],
   "source": [
    "img.save('data/Thermal images/myphoto.jpg')\n"
   ]
  },
  {
   "cell_type": "code",
   "execution_count": 7,
   "metadata": {},
   "outputs": [],
   "source": [
    "def RGB2THERMAL(image):\n",
    "    img = Image.open('4_100.jpg')\n",
    "    img = img.convert('L')\n",
    "    image = cv2.imread('greyscale_image.jpg', 0)\n",
    "    heatmap = cv2.applyColorMap(image, cv2.COLORMAP_JET)\n",
    "    cv2.imshow('heatmap', heatmap)\n",
    "    cv2.waitKey(0)\n",
    "    return heatmap\n"
   ]
  },
  {
   "cell_type": "code",
   "execution_count": 10,
   "metadata": {},
   "outputs": [
    {
     "ename": "TypeError",
     "evalue": "RGB2THERMAL() missing 1 required positional argument: 'image'",
     "output_type": "error",
     "traceback": [
      "\u001b[1;31m---------------------------------------------------------------------------\u001b[0m",
      "\u001b[1;31mTypeError\u001b[0m                                 Traceback (most recent call last)",
      "Cell \u001b[1;32mIn[10], line 1\u001b[0m\n\u001b[1;32m----> 1\u001b[0m RGB2THERMAL()\n",
      "\u001b[1;31mTypeError\u001b[0m: RGB2THERMAL() missing 1 required positional argument: 'image'"
     ]
    }
   ],
   "source": [
    "RGB2THERMAL()"
   ]
  },
  {
   "cell_type": "code",
   "execution_count": 12,
   "metadata": {},
   "outputs": [
    {
     "ename": "SyntaxError",
     "evalue": "invalid imaginary literal (3848945029.py, line 1)",
     "output_type": "error",
     "traceback": [
      "\u001b[1;36m  Cell \u001b[1;32mIn[12], line 1\u001b[1;36m\u001b[0m\n\u001b[1;33m    string(4_100.jpg)\u001b[0m\n\u001b[1;37m                 ^\u001b[0m\n\u001b[1;31mSyntaxError\u001b[0m\u001b[1;31m:\u001b[0m invalid imaginary literal\n"
     ]
    }
   ],
   "source": []
  }
 ],
 "metadata": {
  "kernelspec": {
   "display_name": "Python 3",
   "language": "python",
   "name": "python3"
  },
  "language_info": {
   "codemirror_mode": {
    "name": "ipython",
    "version": 3
   },
   "file_extension": ".py",
   "mimetype": "text/x-python",
   "name": "python",
   "nbconvert_exporter": "python",
   "pygments_lexer": "ipython3",
   "version": "3.11.2"
  },
  "orig_nbformat": 4,
  "vscode": {
   "interpreter": {
    "hash": "07fb9c35f59983460ffd9a6d61da6a0a14b2d1b8d72f6aa35ee735d0540cc3b1"
   }
  }
 },
 "nbformat": 4,
 "nbformat_minor": 2
}
