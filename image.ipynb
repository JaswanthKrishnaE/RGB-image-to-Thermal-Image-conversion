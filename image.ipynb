{
 "cells": [
  {
   "cell_type": "code",
   "execution_count": 3,
   "metadata": {},
   "outputs": [],
   "source": [
    "import cv2"
   ]
  },
  {
   "cell_type": "code",
   "execution_count": 9,
   "metadata": {},
   "outputs": [],
   "source": [
    "from PIL import Image\n",
    "\n",
    "# Open the image\n",
    "img = Image.open('4_100.jpg')\n",
    "\n",
    "# Convert the image to greyscale\n",
    "img = img.convert('L')\n",
    "\n",
    "# Save the image\n",
    "img.save('greyscale_image.jpg')\n"
   ]
  },
  {
   "cell_type": "code",
   "execution_count": 10,
   "metadata": {},
   "outputs": [],
   "source": [
    "# import numpy as np\n",
    "# import matplotlib.pyplot as plt\n",
    "\n",
    "# # Load the greyscale image\n",
    "# img = plt.imread('greyscale_image.jpg')\n",
    "\n",
    "# # Define a color map for the thermal image\n",
    "# cmap = plt.cm.hot\n",
    "\n",
    "# # Normalize the pixel values in the range [0, 1]\n",
    "# img_norm = (img - np.min(img)) / (np.max(img) - np.min(img))\n",
    "\n",
    "# # Apply the color map to the normalized pixel values\n",
    "# thermal_img = cmap(img_norm)\n",
    "\n",
    "# # Save the thermal image\n",
    "# plt.imsave('thermal_image.jpg', thermal_img)\n"
   ]
  },
  {
   "cell_type": "code",
   "execution_count": 11,
   "metadata": {},
   "outputs": [
    {
     "data": {
      "text/plain": [
       "-1"
      ]
     },
     "execution_count": 11,
     "metadata": {},
     "output_type": "execute_result"
    }
   ],
   "source": [
    "image = cv2.imread('greyscale_image.jpg', 0)\n",
    "heatmap = cv2.applyColorMap(image, cv2.COLORMAP_JET)\n",
    "\n",
    "cv2.imshow('heatmap', heatmap)\n",
    "cv2.waitKey(0)"
   ]
  },
  {
   "cell_type": "code",
   "execution_count": null,
   "metadata": {},
   "outputs": [],
   "source": []
  }
 ],
 "metadata": {
  "kernelspec": {
   "display_name": "Python 3",
   "language": "python",
   "name": "python3"
  },
  "language_info": {
   "codemirror_mode": {
    "name": "ipython",
    "version": 3
   },
   "file_extension": ".py",
   "mimetype": "text/x-python",
   "name": "python",
   "nbconvert_exporter": "python",
   "pygments_lexer": "ipython3",
   "version": "3.11.2"
  },
  "orig_nbformat": 4,
  "vscode": {
   "interpreter": {
    "hash": "07fb9c35f59983460ffd9a6d61da6a0a14b2d1b8d72f6aa35ee735d0540cc3b1"
   }
  }
 },
 "nbformat": 4,
 "nbformat_minor": 2
}
