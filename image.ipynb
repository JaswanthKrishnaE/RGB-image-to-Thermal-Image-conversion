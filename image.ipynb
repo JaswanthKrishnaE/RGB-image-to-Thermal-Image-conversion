{
 "cells": [
  {
   "cell_type": "code",
   "execution_count": 39,
   "metadata": {},
   "outputs": [],
   "source": [
    "import cv2\n",
    "import os\n",
    "import matplotlib.pyplot as plt\n",
    "from PIL import Image"
   ]
  },
  {
   "cell_type": "code",
   "execution_count": 42,
   "metadata": {},
   "outputs": [],
   "source": [
    "from PIL import Image\n",
    "# Open the image\n",
    "img = Image.open('mango.jpg')\n",
    "# Convert the image to greyscale\n",
    "img = img.convert('L')\n",
    "# Save the image\n",
    "img.save('greyscale_image.jpg')"
   ]
  },
  {
   "cell_type": "code",
   "execution_count": 43,
   "metadata": {},
   "outputs": [
    {
     "data": {
      "text/plain": [
       "-1"
      ]
     },
     "execution_count": 43,
     "metadata": {},
     "output_type": "execute_result"
    }
   ],
   "source": [
    "i = 0\n",
    "image = cv2.imread('greyscale_image.jpg', 0)\n",
    "heatmap = cv2.applyColorMap(image, cv2.COLORMAP_JET)\n",
    "plt.imsave('data/Thermal images/thermal' +format(i, '0001') +'.jpg', heatmap)\n",
    "\n",
    "cv2.imshow('heatmap', heatmap)\n",
    "cv2.waitKey(0)"
   ]
  }
 ],
 "metadata": {
  "kernelspec": {
   "display_name": "Python 3",
   "language": "python",
   "name": "python3"
  },
  "language_info": {
   "codemirror_mode": {
    "name": "ipython",
    "version": 3
   },
   "file_extension": ".py",
   "mimetype": "text/x-python",
   "name": "python",
   "nbconvert_exporter": "python",
   "pygments_lexer": "ipython3",
   "version": "3.11.2"
  },
  "orig_nbformat": 4,
  "vscode": {
   "interpreter": {
    "hash": "07fb9c35f59983460ffd9a6d61da6a0a14b2d1b8d72f6aa35ee735d0540cc3b1"
   }
  }
 },
 "nbformat": 4,
 "nbformat_minor": 2
}
